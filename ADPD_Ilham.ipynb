{
  "nbformat": 4,
  "nbformat_minor": 0,
  "metadata": {
    "colab": {
      "provenance": [],
      "authorship_tag": "ABX9TyNfc2x2QZZyeC5pG6A3j09z",
      "include_colab_link": true
    },
    "kernelspec": {
      "name": "python3",
      "display_name": "Python 3"
    },
    "language_info": {
      "name": "python"
    }
  },
  "cells": [
    {
      "cell_type": "markdown",
      "metadata": {
        "id": "view-in-github",
        "colab_type": "text"
      },
      "source": [
        "<a href=\"https://colab.research.google.com/github/Fathima92/Batch19_APDP/blob/main/ADPD_Ilham.ipynb\" target=\"_parent\"><img src=\"https://colab.research.google.com/assets/colab-badge.svg\" alt=\"Open In Colab\"/></a>"
      ]
    },
    {
      "cell_type": "code",
      "execution_count": null,
      "metadata": {
        "colab": {
          "base_uri": "https://localhost:8080/"
        },
        "id": "gqJpa-R1Vt67",
        "outputId": "5fa08aa2-337a-4963-a167-02707a3d560b"
      },
      "outputs": [
        {
          "output_type": "stream",
          "name": "stdout",
          "text": [
            "Requirement already satisfied: dash in /usr/local/lib/python3.10/dist-packages (2.18.2)\n",
            "Requirement already satisfied: Flask<3.1,>=1.0.4 in /usr/local/lib/python3.10/dist-packages (from dash) (3.0.3)\n",
            "Requirement already satisfied: Werkzeug<3.1 in /usr/local/lib/python3.10/dist-packages (from dash) (3.0.6)\n",
            "Requirement already satisfied: plotly>=5.0.0 in /usr/local/lib/python3.10/dist-packages (from dash) (5.24.1)\n",
            "Requirement already satisfied: dash-html-components==2.0.0 in /usr/local/lib/python3.10/dist-packages (from dash) (2.0.0)\n",
            "Requirement already satisfied: dash-core-components==2.0.0 in /usr/local/lib/python3.10/dist-packages (from dash) (2.0.0)\n",
            "Requirement already satisfied: dash-table==5.0.0 in /usr/local/lib/python3.10/dist-packages (from dash) (5.0.0)\n",
            "Requirement already satisfied: importlib-metadata in /usr/local/lib/python3.10/dist-packages (from dash) (8.5.0)\n",
            "Requirement already satisfied: typing-extensions>=4.1.1 in /usr/local/lib/python3.10/dist-packages (from dash) (4.12.2)\n",
            "Requirement already satisfied: requests in /usr/local/lib/python3.10/dist-packages (from dash) (2.32.3)\n",
            "Requirement already satisfied: retrying in /usr/local/lib/python3.10/dist-packages (from dash) (1.3.4)\n",
            "Requirement already satisfied: nest-asyncio in /usr/local/lib/python3.10/dist-packages (from dash) (1.6.0)\n",
            "Requirement already satisfied: setuptools in /usr/local/lib/python3.10/dist-packages (from dash) (75.1.0)\n",
            "Requirement already satisfied: Jinja2>=3.1.2 in /usr/local/lib/python3.10/dist-packages (from Flask<3.1,>=1.0.4->dash) (3.1.4)\n",
            "Requirement already satisfied: itsdangerous>=2.1.2 in /usr/local/lib/python3.10/dist-packages (from Flask<3.1,>=1.0.4->dash) (2.2.0)\n",
            "Requirement already satisfied: click>=8.1.3 in /usr/local/lib/python3.10/dist-packages (from Flask<3.1,>=1.0.4->dash) (8.1.7)\n",
            "Requirement already satisfied: blinker>=1.6.2 in /usr/local/lib/python3.10/dist-packages (from Flask<3.1,>=1.0.4->dash) (1.9.0)\n",
            "Requirement already satisfied: tenacity>=6.2.0 in /usr/local/lib/python3.10/dist-packages (from plotly>=5.0.0->dash) (9.0.0)\n",
            "Requirement already satisfied: packaging in /usr/local/lib/python3.10/dist-packages (from plotly>=5.0.0->dash) (24.2)\n",
            "Requirement already satisfied: MarkupSafe>=2.1.1 in /usr/local/lib/python3.10/dist-packages (from Werkzeug<3.1->dash) (3.0.2)\n",
            "Requirement already satisfied: zipp>=3.20 in /usr/local/lib/python3.10/dist-packages (from importlib-metadata->dash) (3.21.0)\n",
            "Requirement already satisfied: charset-normalizer<4,>=2 in /usr/local/lib/python3.10/dist-packages (from requests->dash) (3.4.0)\n",
            "Requirement already satisfied: idna<4,>=2.5 in /usr/local/lib/python3.10/dist-packages (from requests->dash) (3.10)\n",
            "Requirement already satisfied: urllib3<3,>=1.21.1 in /usr/local/lib/python3.10/dist-packages (from requests->dash) (2.2.3)\n",
            "Requirement already satisfied: certifi>=2017.4.17 in /usr/local/lib/python3.10/dist-packages (from requests->dash) (2024.8.30)\n",
            "Requirement already satisfied: six>=1.7.0 in /usr/local/lib/python3.10/dist-packages (from retrying->dash) (1.16.0)\n"
          ]
        }
      ],
      "source": [
        "!pip install dash"
      ]
    },
    {
      "cell_type": "code",
      "source": [
        "# Import Require Libraies\n",
        "import pandas as pd\n",
        "from abc import ABC, abstractmethod\n",
        "import dash\n",
        "from dash import html\n",
        "import dash_table\n",
        "import dash_core_components as dcc\n",
        "import dash_html_components as html\n",
        "from dash.dependencies import Input, Output, State\n",
        "import numpy as np\n",
        "import plotly.express as px\n",
        "import plotly.graph_objects as go"
      ],
      "metadata": {
        "colab": {
          "base_uri": "https://localhost:8080/"
        },
        "id": "6TkS-vayWush",
        "outputId": "13bf0bd8-d517-4271-c61e-06a0eba768ef"
      },
      "execution_count": null,
      "outputs": [
        {
          "output_type": "stream",
          "name": "stderr",
          "text": [
            "<ipython-input-2-4c5561952e63>:6: UserWarning: \n",
            "The dash_table package is deprecated. Please replace\n",
            "`import dash_table` with `from dash import dash_table`\n",
            "\n",
            "Also, if you're using any of the table format helpers (e.g. Group), replace \n",
            "`from dash_table.Format import Group` with \n",
            "`from dash.dash_table.Format import Group`\n",
            "  import dash_table\n",
            "<ipython-input-2-4c5561952e63>:7: UserWarning: \n",
            "The dash_core_components package is deprecated. Please replace\n",
            "`import dash_core_components as dcc` with `from dash import dcc`\n",
            "  import dash_core_components as dcc\n",
            "<ipython-input-2-4c5561952e63>:8: UserWarning: \n",
            "The dash_html_components package is deprecated. Please replace\n",
            "`import dash_html_components as html` with `from dash import html`\n",
            "  import dash_html_components as html\n"
          ]
        }
      ]
    },
    {
      "cell_type": "code",
      "source": [
        "# Interface for data ingestion\n",
        "class DataIngestionStrategy(ABC):\n",
        "    @abstractmethod\n",
        "    def ingest_data(self, file_path):\n",
        "        pass\n",
        "\n",
        "# Concrete class for CSV data ingestion\n",
        "class CSVDataIngestion(DataIngestionStrategy):\n",
        "    def ingest_data(self, file_path):\n",
        "        return pd.read_csv(file_path)\n",
        "\n",
        "\n",
        "# Context class for data ingestion\n",
        "class DataIngestionContext:\n",
        "    def __init__(self, strategy: DataIngestionStrategy):\n",
        "        self._strategy = strategy\n",
        "\n",
        "    def set_strategy(self, strategy: DataIngestionStrategy):\n",
        "        self._strategy = strategy\n",
        "\n",
        "    def ingest(self, file_path):\n",
        "        return self._strategy.ingest_data(file_path)\n",
        "\n",
        "\n",
        "class DataProcess(ABC):\n",
        "    @abstractmethod\n",
        "    def process_data(self, data):\n",
        "        pass"
      ],
      "metadata": {
        "id": "gstALAK6WRWg"
      },
      "execution_count": null,
      "outputs": []
    },
    {
      "cell_type": "code",
      "source": [
        "class SalesTrendsOverTime(DataProcess):\n",
        "    def process_data(self, data):\n",
        "        # Ensure 'Date' is in datetime format\n",
        "        data['Date'] = pd.to_datetime(data['Date'])\n",
        "\n",
        "        # Group by year and month, then sum the sales\n",
        "        grouped = data.groupby([data['Date'].dt.year.rename('Year'), data['Date'].dt.month.rename('Month')])[\n",
        "            'Sales'].sum().reset_index(name='TotalSales')\n",
        "\n",
        "        # Reconstructing the 'Date' column for ease of plotting\n",
        "        grouped['Date'] = pd.to_datetime(grouped.assign(DAY=1)[['Year', 'Month', 'DAY']])\n",
        "\n",
        "        # Ensure 'Date' is the first column if needed\n",
        "        cols = ['Date'] + [col for col in grouped.columns if col != 'Date']\n",
        "        return grouped[cols]"
      ],
      "metadata": {
        "id": "ufZRfwXHWhG0"
      },
      "execution_count": null,
      "outputs": []
    },
    {
      "cell_type": "code",
      "source": [
        "class ProfitAnalysisByCountry(DataProcess):\n",
        "    def process_data(self, data):\n",
        "        return data.groupby('Country')['Profit'].sum().reset_index()\n",
        "\n",
        "class ProductPerformance(DataProcess):\n",
        "    def process_data(self, data):\n",
        "        return data.groupby('Product')[['Sales', 'Profit']].sum().reset_index()\n",
        "\n",
        "class DiscountImpactOnSales(DataProcess):\n",
        "    def process_data(self, data):\n",
        "        return data[['Discount Band', 'Sales', 'Profit']]\n",
        "\n",
        "class MonthlySalesDistribution(DataProcess):\n",
        "    def process_data(self, data):\n",
        "        data['Date'] = pd.to_datetime(data['Date'])\n",
        "        return data.groupby(data['Date'].dt.month)['Sales'].sum().reset_index(name='MonthlySales')\n",
        "\n",
        "\n",
        "class CountryWiseSalesDistribution(DataProcess):\n",
        "    def process_data(self, data):\n",
        "        return data.groupby('Country')['Sales'].sum().reset_index()"
      ],
      "metadata": {
        "id": "jvnTcT6bXgx9"
      },
      "execution_count": null,
      "outputs": []
    },
    {
      "cell_type": "code",
      "source": [
        "class CorrelationAnalysis(DataProcess):\n",
        "    def process_data(self, data):\n",
        "        # Updated function to handle non-convertible strings\n",
        "        def convert_currency(val):\n",
        "            try:\n",
        "                # Removing currency symbols and commas\n",
        "                val = val.replace(',', '').replace('$', '')\n",
        "                # Converting to float or returning NaN for non-convertible values\n",
        "                return float(val) if val.strip() != '' and val.strip() != '-' else np.nan\n",
        "            except Exception as e:\n",
        "                return np.nan  # Return NaN for any other conversion errors\n",
        "\n",
        "        # Apply conversion on all specified columns\n",
        "        for col in ['Units Sold', 'Manufacturing Price', 'Sale Price', 'Gross Sales', 'Discounts', 'Sales', 'Profit']:\n",
        "            data[col] = data[col].apply(convert_currency)\n",
        "\n",
        "        return data[['Units Sold', 'Manufacturing Price', 'Sale Price', 'Gross Sales', 'Discounts', 'Sales', 'Profit']].corr()"
      ],
      "metadata": {
        "id": "N0Yeo7PJdzlm"
      },
      "execution_count": null,
      "outputs": []
    },
    {
      "cell_type": "code",
      "source": [
        "class DataProcessingContext:\n",
        "    def __init__(self, strategy: DataProcess):\n",
        "        self._strategy = strategy\n",
        "\n",
        "    def set_strategy(self, strategy: DataProcess):\n",
        "        self._strategy = strategy\n",
        "\n",
        "    def process(self, data):\n",
        "        return self._strategy.process_data(data)"
      ],
      "metadata": {
        "id": "JAUT9UJGeBbW"
      },
      "execution_count": null,
      "outputs": []
    },
    {
      "cell_type": "code",
      "source": [
        "# Load and process data\n",
        "data_ingestion_context = DataIngestionContext(CSVDataIngestion())\n",
        "sales_data = data_ingestion_context.ingest('Financials.csv')\n",
        "\n",
        "data_processing_context = DataProcessingContext(SalesTrendsOverTime())\n",
        "sales_trends_data = data_processing_context.process(sales_data)\n",
        "\n",
        "data_processing_context.set_strategy(ProfitAnalysisByCountry())\n",
        "profit_by_country_data = data_processing_context.process(sales_data)\n",
        "\n",
        "data_processing_context = DataProcessingContext(ProductPerformance())\n",
        "product_performance_data = data_processing_context.process(sales_data)\n",
        "\n",
        "data_processing_context = DataProcessingContext(DiscountImpactOnSales())\n",
        "discount_impact_data = data_processing_context.process(sales_data)\n",
        "\n",
        "data_processing_context.set_strategy(CountryWiseSalesDistribution())\n",
        "country_wise_sales_data = data_processing_context.process(sales_data)\n",
        "\n",
        "data_processing_context.set_strategy(CorrelationAnalysis())\n",
        "correlation_analysis_data = data_processing_context.process(sales_data)"
      ],
      "metadata": {
        "id": "KFbV2NUrfJ04"
      },
      "execution_count": null,
      "outputs": []
    },
    {
      "cell_type": "code",
      "source": [
        "# Initialize the Dash app\n",
        "app = dash.Dash(__name__)"
      ],
      "metadata": {
        "id": "XF746O0kfNHA"
      },
      "execution_count": null,
      "outputs": []
    },
    {
      "cell_type": "code",
      "source": [
        "# Define the layout of the app\n",
        "app.layout = html.Div(children=[\n",
        "    html.H1(children='ERP System Reporting tool for Sales Data'),\n",
        "\n",
        "    # Column selector\n",
        "    html.H3('Select Columns to Display:'),\n",
        "    dcc.Checklist(\n",
        "        id='column-selector',\n",
        "        options=[{'label': col, 'value': col} for col in sales_data.columns],\n",
        "        value=sales_data.columns.tolist(),  # Default to all columns\n",
        "        inline=True,\n",
        "    ),\n",
        "\n",
        "    html.Button('Uncheck All', id='uncheck-all-button', n_clicks=0),\n",
        "\n",
        "    # Data Table\n",
        "    html.H2(\"ERP System's Data Table\"),\n",
        "    dash_table.DataTable(\n",
        "        id='table',\n",
        "        columns=[{\"name\": i, \"id\": i} for i in sales_data.columns],  # Columns to be updated in the callback\n",
        "        data=sales_data.to_dict('records'),\n",
        "        filter_action='native',  # Enable filtering\n",
        "        sort_action='native',  # Enable sorting\n",
        "        sort_mode='multi',  # Allow multi-column sorting\n",
        "        page_action='native',  # Enable pagination\n",
        "        page_size=10,  # Number of rows per page\n",
        "    ),\n",
        "\n",
        "    # Dynamic Chart\n",
        "    dcc.Graph(id='dynamic-chart'),\n",
        "\n",
        "    # Dropdown for selecting charts\n",
        "    html.H3('Select a Chart to Display:'),\n",
        "    dcc.Dropdown(\n",
        "        id='chart-selector',\n",
        "        options=[\n",
        "            {'label': 'Sales Trends Over Time', 'value': 'sales-trends'},\n",
        "            {'label': 'Profit Analysis by Country', 'value': 'profit-by-country'},\n",
        "            {'label': 'Product Performance', 'value': 'product-performance'},\n",
        "            {'label': 'Country-wise Sales Distribution', 'value': 'country-wise-sales'},\n",
        "            {'label': 'Discount Impact on Sales', 'value': 'discount-impact'},\n",
        "            {'label': 'Correlation Analysis', 'value': 'correlation-analysis'},\n",
        "        ],\n",
        "        value='sales-trends',  # Default value\n",
        "    ),\n",
        "\n",
        "    # Container for the selected chart\n",
        "    html.Div(id='selected-chart-container'),\n",
        "\n",
        "])\n",
        "\n",
        "# Define callback to update table columns\n",
        "@app.callback(\n",
        "    Output('table', 'columns'),\n",
        "    [Input('column-selector', 'value')]\n",
        ")\n",
        "def update_table_columns(selected_columns):\n",
        "    return [{\"name\": i, \"id\": i} for i in selected_columns]\n",
        "\n",
        "# Callback to uncheck all checklist options\n",
        "@app.callback(\n",
        "    Output('column-selector', 'value'),\n",
        "    [Input('uncheck-all-button', 'n_clicks')],\n",
        "    prevent_initial_call=True\n",
        ")\n",
        "def uncheck_all_columns(n_clicks):\n",
        "    if n_clicks > 0:\n",
        "        return []\n",
        "    raise dash.exceptions.PreventUpdate"
      ],
      "metadata": {
        "id": "3ZyVlkSWfQGn"
      },
      "execution_count": null,
      "outputs": []
    },
    {
      "cell_type": "code",
      "source": [
        "# Callback to update the dynamic chart based on the table's data and selected columns\n",
        "@app.callback(\n",
        "    Output('dynamic-chart', 'figure'),\n",
        "    [Input('table', 'derived_virtual_data'),\n",
        "     Input('column-selector', 'value')]\n",
        ")\n",
        "def update_dynamic_chart(rows, selected_columns):\n",
        "    if rows is None:\n",
        "        return {'data': []}\n",
        "\n",
        "    dff = pd.DataFrame(rows)\n",
        "\n",
        "    if selected_columns is None or not selected_columns:\n",
        "        return {'data': []}\n",
        "\n",
        "    data = []\n",
        "    for column in selected_columns:\n",
        "        if dff[column].dtype in ['float64', 'int64']:\n",
        "            data.append({\n",
        "                'x': dff.index,\n",
        "                'y': dff[column],\n",
        "                'type': 'line',\n",
        "                'name': column\n",
        "            })\n",
        "\n",
        "    return {\n",
        "        'data': data,\n",
        "        'layout': {\n",
        "            'title': 'Dynamic Data Chart',\n",
        "            'xaxis': {'title': 'Index'},\n",
        "            'yaxis': {'title': 'Value'}\n",
        "        }\n",
        "    }\n",
        "\n",
        "\n",
        "@app.callback(\n",
        "    Output('selected-chart-container', 'children'),\n",
        "    Input('chart-selector', 'value')\n",
        ")\n",
        "def display_selected_chart(chart_value):\n",
        "    if chart_value == 'sales-trends':\n",
        "        return dcc.Graph(\n",
        "            figure={\n",
        "                'data': [{'x': sales_trends_data['Date'], 'y': sales_trends_data['TotalSales'], 'type': 'line'}],\n",
        "                'layout': {'title': 'Sales Trends Over Time'}\n",
        "            }\n",
        "        )\n",
        "    elif chart_value == 'profit-by-country':\n",
        "        return dcc.Graph(\n",
        "            figure={\n",
        "                'data': [{'x': profit_by_country_data['Country'], 'y': profit_by_country_data['Profit'], 'type': 'bar'}],\n",
        "                'layout': {'title': 'Profit Analysis by Country'}\n",
        "            }\n",
        "        )\n",
        "    elif chart_value == 'product-performance':\n",
        "        return dcc.Graph(\n",
        "            figure={\n",
        "                'data': [\n",
        "                    {'x': product_performance_data['Product'], 'y': product_performance_data['Sales'], 'type': 'bar', 'name': 'Sales'},\n",
        "                    {'x': product_performance_data['Product'], 'y': product_performance_data['Profit'], 'type': 'bar', 'name': 'Profit'},\n",
        "                ],\n",
        "                'layout': {\n",
        "                    'title': 'Product Performance',\n",
        "                    'barmode': 'stack'\n",
        "                }\n",
        "            }\n",
        "        )\n",
        "    elif chart_value == 'country-wise-sales':\n",
        "        return dcc.Graph(\n",
        "            figure={\n",
        "                'data': [\n",
        "                    {'x': country_wise_sales_data['Country'], 'y': country_wise_sales_data['Sales'], 'type': 'bar', 'name': 'Sales by Country'},\n",
        "                ],\n",
        "                'layout': {\n",
        "                    'title': 'Country-wise Sales Distribution',\n",
        "                    'xaxis': {'title': 'Country'},\n",
        "                    'yaxis': {'title': 'Total Sales'}\n",
        "                }\n",
        "            }\n",
        "        )\n",
        "    elif chart_value == 'discount-impact':\n",
        "        return dcc.Graph(\n",
        "        figure={\n",
        "            'data': [\n",
        "                {'x': discount_impact_data['Discount Band'], 'y': discount_impact_data['Sales'], 'mode': 'markers', 'type': 'scatter', 'name': 'Discount Impact on Sales'},\n",
        "            ],\n",
        "            'layout': {\n",
        "                'title': 'Discount Impact on Sales'\n",
        "            }\n",
        "        }\n",
        "    )\n",
        "    elif chart_value == 'correlation-analysis':\n",
        "        return dcc.Graph(\n",
        "            figure={\n",
        "                'data': [\n",
        "                    {\n",
        "                        'z': correlation_analysis_data.values,\n",
        "                        'x': correlation_analysis_data.columns,\n",
        "                        'y': correlation_analysis_data.index,\n",
        "                        'type': 'heatmap',\n",
        "                        'colorscale': 'Viridis',\n",
        "                    }\n",
        "                ],\n",
        "                'layout': {\n",
        "                    'title': 'Correlation Analysis',\n",
        "                    'xaxis': {'title': 'Variables'},\n",
        "                    'yaxis': {'title': 'Variables'},\n",
        "                }\n",
        "            }\n",
        "        )\n",
        "    # Add more elif blocks for other chart values...\n",
        "    else:\n",
        "        return \"Please select a chart.\"\n",
        "\n",
        "if __name__ == '__main__':\n",
        "    app.run_server(debug=True)"
      ],
      "metadata": {
        "colab": {
          "base_uri": "https://localhost:8080/"
        },
        "id": "B6BX5zeefZLE",
        "outputId": "d31aacd0-544a-4f65-dfb3-97ef9af4bf64"
      },
      "execution_count": null,
      "outputs": [
        {
          "output_type": "display_data",
          "data": {
            "text/plain": [
              "<IPython.core.display.Javascript object>"
            ],
            "application/javascript": [
              "(async (port, path, width, height, cache, element) => {\n",
              "    if (!google.colab.kernel.accessAllowed && !cache) {\n",
              "      return;\n",
              "    }\n",
              "    element.appendChild(document.createTextNode(''));\n",
              "    const url = await google.colab.kernel.proxyPort(port, {cache});\n",
              "    const iframe = document.createElement('iframe');\n",
              "    iframe.src = new URL(path, url).toString();\n",
              "    iframe.height = height;\n",
              "    iframe.width = width;\n",
              "    iframe.style.border = 0;\n",
              "    iframe.allow = [\n",
              "        'accelerometer',\n",
              "        'autoplay',\n",
              "        'camera',\n",
              "        'clipboard-read',\n",
              "        'clipboard-write',\n",
              "        'gyroscope',\n",
              "        'magnetometer',\n",
              "        'microphone',\n",
              "        'serial',\n",
              "        'usb',\n",
              "        'xr-spatial-tracking',\n",
              "    ].join('; ');\n",
              "    element.appendChild(iframe);\n",
              "  })(8050, \"/\", \"100%\", 650, false, window.element)"
            ]
          },
          "metadata": {}
        }
      ]
    },
    {
      "cell_type": "code",
      "source": [],
      "metadata": {
        "id": "VeeBoGMWfsyx"
      },
      "execution_count": null,
      "outputs": []
    }
  ]
}